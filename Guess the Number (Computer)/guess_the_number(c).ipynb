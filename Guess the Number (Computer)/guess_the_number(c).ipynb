{
 "cells": [
  {
   "cell_type": "markdown",
   "metadata": {},
   "source": [
    "PROJECT NO.02: \"the Number Game Python Project (computer)\""
   ]
  },
  {
   "cell_type": "code",
   "execution_count": 2,
   "metadata": {},
   "outputs": [
    {
     "name": "stdout",
     "output_type": "stream",
     "text": [
      "Welcome to Cmputer guess game!\n",
      "Sorry guess again Too low\n",
      "Sorry guess again Too low\n",
      "Sorry guess again Too low\n",
      "Yay congrats, You have guess the number 89 is correct.\n",
      " you attempts 4 times \n"
     ]
    }
   ],
   "source": [
    "import random\n",
    "def Guess(x):\n",
    "    print(\"Welcome to Cmputer guess game!\")\n",
    "    random_number = random.randint(1,x)\n",
    "    attempts = 0\n",
    "    guess = 0\n",
    "    while guess != random_number:\n",
    "        guess = int(input(f\"Guess a number between 1 and {x}\"))\n",
    "        attempts += 1\n",
    "        if guess < random_number:\n",
    "            print(\"Sorry guess again Too low\")\n",
    "        elif guess > random_number:\n",
    "            print(\"Sorry guess agan Too high\")\n",
    "    print(f\"Yay congrats, You have guess the number {random_number} is correct.\\n you attempts {attempts} times \")\n",
    "Guess(100)"
   ]
  }
 ],
 "metadata": {
  "kernelspec": {
   "display_name": "Python 3",
   "language": "python",
   "name": "python3"
  },
  "language_info": {
   "codemirror_mode": {
    "name": "ipython",
    "version": 3
   },
   "file_extension": ".py",
   "mimetype": "text/x-python",
   "name": "python",
   "nbconvert_exporter": "python",
   "pygments_lexer": "ipython3",
   "version": "3.13.1"
  }
 },
 "nbformat": 4,
 "nbformat_minor": 2
}
