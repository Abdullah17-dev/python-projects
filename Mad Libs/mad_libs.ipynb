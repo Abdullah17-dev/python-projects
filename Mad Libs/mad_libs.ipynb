{
 "cells": [
  {
   "cell_type": "markdown",
   "metadata": {},
   "source": [
    "## **PROJECT NO.01: \"Mad libs Python Project\"**"
   ]
  },
  {
   "cell_type": "code",
   "execution_count": 2,
   "metadata": {},
   "outputs": [
    {
     "name": "stdout",
     "output_type": "stream",
     "text": [
      "Computer programming is so amazing! it makes me so excited all the time because I love to code. Stay hydrated and innovate like you are elon musk!\n"
     ]
    }
   ],
   "source": [
    "adj = input(\"Adjective: \")\n",
    "verb1 = input(\"verb: \")\n",
    "verb2 = input(\"verb: \")\n",
    "famous_person = input(\"Famous Person: \")\n",
    "madlib = f\"Computer programming is so {adj}! it makes me so excited all the time because \\\n",
    "I love to {verb1}. Stay hydrated and {verb2} like you are {famous_person}!\"\n",
    "print(madlib)"
   ]
  }
 ],
 "metadata": {
  "kernelspec": {
   "display_name": "Python 3",
   "language": "python",
   "name": "python3"
  },
  "language_info": {
   "codemirror_mode": {
    "name": "ipython",
    "version": 3
   },
   "file_extension": ".py",
   "mimetype": "text/x-python",
   "name": "python",
   "nbconvert_exporter": "python",
   "pygments_lexer": "ipython3",
   "version": "3.13.1"
  }
 },
 "nbformat": 4,
 "nbformat_minor": 2
}
